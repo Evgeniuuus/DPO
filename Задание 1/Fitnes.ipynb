{
 "cells": [
  {
   "cell_type": "markdown",
   "id": "305f5978-86f9-453d-93f5-99385efabf16",
   "metadata": {},
   "source": [
    "<h1>Анализ данных. Jupyter Notebook. Введение</h1>"
   ]
  },
  {
   "cell_type": "markdown",
   "id": "44c85855-c9ab-499b-897a-e999c0ce6cb4",
   "metadata": {},
   "source": [
    "<h2>Желинский Евгений</h2>"
   ]
  },
  {
   "cell_type": "markdown",
   "id": "1e48c826-6708-42bc-9e25-9d84a9d5e3e8",
   "metadata": {},
   "source": [
    "<h3>ПМИ-221 (Прикладная математика и информатика) 01.02.03 </h3>"
   ]
  },
  {
   "cell_type": "markdown",
   "id": "e17fd72e-6652-4d6b-bd30-88015a404085",
   "metadata": {},
   "source": [
    "Тема исследования: Мобильное приложение для преподавателей фитнеса </br>\n",
    "*Посетите наш сайт* ---> [Фитнес-клуб☺](https://oxygymfit.ru/?utm_source=yandex&utm_medium=cpc&utm_campaign=113547836|EPK_|_BPP_|_Kemerovo&utm_content=16410395792&utm_term=фитнес%20клуб&calltouch_tm=yd_c:113547836_gb:5480454190_ad:16410395792_ph:52749290799_st:search_pt:premium_p:1_s:none_dt:desktop_reg:64_ret:52749290799_apt:none&yclid=9001073562930905087)</br>\n",
    "- **Кто?** (Преподаватели фитнеса и тренеры, использующие мобильное приложение для управления своими клиентами, планирования тренировок и отслеживания прогресса)\n",
    "- **Что?** (Собрать и проанализировать данные о взаимодействии преподавателей с приложением, включая использование функций планирования тренировок, анализа прогресса клиентов, обмена сообщениями и публикации контента)\n",
    "- **Где?** (Внутри мобильного приложения через встроенные аналитические инструменты (например, Firebase Analytics, Mixpanel))\n",
    "- ***Почему?*** (Понимание пользовательского поведения преподавателей позволяет выявить потребности и предпочтения, что способствует улучшению продукта и повышению удовлетворенности клиентов)\n",
    "\n",
    "\n"
   ]
  },
  {
   "cell_type": "markdown",
   "id": "55e5cc7b-6f25-4b0c-a8a7-ba67ef4679c0",
   "metadata": {},
   "source": [
    "![](https://fitostrov.ru/wp-content/uploads/2018/04/vakansii_1.jpg )"
   ]
  },
  {
   "cell_type": "code",
   "execution_count": 7,
   "id": "a1fda66d-16aa-4807-a250-46d5b64e4226",
   "metadata": {},
   "outputs": [
    {
     "data": {
      "text/plain": [
       "'print(\"Мы вас ждем\")'"
      ]
     },
     "execution_count": 7,
     "metadata": {},
     "output_type": "execute_result"
    }
   ],
   "source": [
    "'''print(\"Мы вас ждем\")'''"
   ]
  },
  {
   "attachments": {},
   "cell_type": "markdown",
   "id": "7d3e91a6-16ed-4c79-b42d-6380084f23b7",
   "metadata": {},
   "source": [
    "| Нас| очень | много |\n",
    "|----------|----------|----------|\n",
    "| 2022    |  2   |  3   |\n",
    "| 2023    | 5    | 6    |\n",
    "| 2024    | 6    | 10   |"
   ]
  }
 ],
 "metadata": {
  "kernelspec": {
   "display_name": "Python 3 (ipykernel)",
   "language": "python",
   "name": "python3"
  },
  "language_info": {
   "codemirror_mode": {
    "name": "ipython",
    "version": 3
   },
   "file_extension": ".py",
   "mimetype": "text/x-python",
   "name": "python",
   "nbconvert_exporter": "python",
   "pygments_lexer": "ipython3",
   "version": "3.12.1"
  }
 },
 "nbformat": 4,
 "nbformat_minor": 5
}
