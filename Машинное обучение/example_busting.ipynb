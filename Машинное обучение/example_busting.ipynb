{
  "nbformat": 4,
  "nbformat_minor": 0,
  "metadata": {
    "colab": {
      "provenance": []
    },
    "kernelspec": {
      "name": "python3",
      "display_name": "Python 3"
    },
    "language_info": {
      "name": "python"
    }
  },
  "cells": [
    {
      "cell_type": "code",
      "source": [
        "import pandas as pd\n",
        "import numpy as np\n",
        "from sklearn.model_selection import train_test_split\n",
        "from sklearn.preprocessing import StandardScaler\n",
        "from sklearn.svm import SVC\n",
        "from sklearn.neighbors import KNeighborsClassifier\n",
        "from sklearn.neighbors import LocalOutlierFactor\n",
        "from sklearn.tree import DecisionTreeClassifier\n",
        "from sklearn.linear_model import LogisticRegression\n",
        "from sklearn.ensemble import GradientBoostingClassifier, AdaBoostClassifier\n",
        "from sklearn.metrics import classification_report\n",
        "from imblearn.over_sampling import RandomOverSampler"
      ],
      "metadata": {
        "id": "gX94TDdrru0C"
      },
      "execution_count": null,
      "outputs": []
    },
    {
      "cell_type": "code",
      "source": [
        "def replace_zeros(df):\n",
        "    \"\"\"Заменяет нули на моду, исключая 0 как моду.\"\"\"\n",
        "    for col in df.select_dtypes(include=np.number):\n",
        "        counts = df[col].value_counts()\n",
        "        mode = counts.drop(0, errors='ignore').nlargest(1).index[0] if len(counts)>1 else df[col].mean()\n",
        "        df[col] = df[col].replace(0, mode)\n",
        "    return df"
      ],
      "metadata": {
        "id": "HYiAQy52u-nq"
      },
      "execution_count": null,
      "outputs": []
    },
    {
      "cell_type": "markdown",
      "source": [
        "Масштабирование данных."
      ],
      "metadata": {
        "id": "SpS6KOaPrcWy"
      }
    },
    {
      "cell_type": "code",
      "source": [
        "data = pd.read_csv('diabetes.csv')\n",
        "\n",
        "X = data.drop('Outcome', axis=1)\n",
        "y = data['Outcome']\n",
        "\n",
        "X = replace_zeros(X)\n",
        "\n",
        "# Балансировка данных\n",
        "ros = RandomOverSampler(random_state=294)\n",
        "X_resampled, y_resampled = ros.fit_resample(X, y)\n",
        "\n",
        "X_train, X_test, y_train, y_test = train_test_split(X_resampled, y_resampled, test_size=0.2, random_state=294)"
      ],
      "metadata": {
        "id": "rWwzxAoxrcyT"
      },
      "execution_count": null,
      "outputs": []
    },
    {
      "cell_type": "markdown",
      "source": [
        "Построение моделей"
      ],
      "metadata": {
        "id": "cYQFsBk-EHh7"
      }
    },
    {
      "cell_type": "markdown",
      "source": [
        "Градиентный бустинг"
      ],
      "metadata": {
        "id": "nqNkZxo-E0fs"
      }
    },
    {
      "cell_type": "code",
      "source": [
        "from sklearn.model_selection import GridSearchCV\n",
        "\n",
        "# Задаем диапазон значений n_estimators для поиска\n",
        "param_grid_boosting = {'n_estimators': range(50, 400, 50)} # от 50 до 200 с шагом 50\n",
        "\n",
        "# Создаем GradientBoostingClassifier\n",
        "gb_classifier = GradientBoostingClassifier(random_state=42)\n",
        "\n",
        "# Используем GridSearchCV для подбора n_estimators\n",
        "grid_boosting = GridSearchCV(gb_classifier, param_grid_boosting, cv=5, scoring='accuracy', n_jobs=-1)\n",
        "grid_boosting.fit(X_train, y_train)\n",
        "\n",
        "# Лучшие параметры\n",
        "print(\"Лучшее количество базовых алгоритмов:\", grid_boosting.best_params_)\n",
        "print(\"Лучшая точность:\", grid_boosting.best_score_)\n",
        "\n",
        "# Оценка лучшей модели на тестовом наборе\n",
        "best_boosting_model = grid_boosting.best_estimator_\n",
        "y_pred = best_boosting_model.predict(X_test)\n",
        "print(\"\\nОтчет о классификации на тестовом наборе:\")\n",
        "print(classification_report(y_test, y_pred))"
      ],
      "metadata": {
        "colab": {
          "base_uri": "https://localhost:8080/"
        },
        "id": "m_QHn45tEF-B",
        "outputId": "3ee59f2b-7215-46c7-c736-40c26a71e55b"
      },
      "execution_count": null,
      "outputs": [
        {
          "output_type": "stream",
          "name": "stdout",
          "text": [
            "Лучшее количество базовых алгоритмов: {'n_estimators': 250}\n",
            "Лучшая точность: 0.81875\n",
            "\n",
            "Отчет о классификации на тестовом наборе:\n",
            "              precision    recall  f1-score   support\n",
            "\n",
            "           0       0.86      0.81      0.83       104\n",
            "           1       0.80      0.85      0.83        96\n",
            "\n",
            "    accuracy                           0.83       200\n",
            "   macro avg       0.83      0.83      0.83       200\n",
            "weighted avg       0.83      0.83      0.83       200\n",
            "\n"
          ]
        }
      ]
    },
    {
      "cell_type": "markdown",
      "source": [
        "Адаптивный бустинг"
      ],
      "metadata": {
        "id": "ur8qDilbFhQp"
      }
    },
    {
      "cell_type": "code",
      "source": [
        "from sklearn.model_selection import GridSearchCV\n",
        "\n",
        "# Задаем диапазон значений n_estimators для поиска\n",
        "param_grid_boosting = {'n_estimators': range(2, 100, 10)}\n",
        "\n",
        "# Создаем GradientBoostingClassifier\n",
        "gb_classifier = AdaBoostClassifier(random_state=42)\n",
        "\n",
        "# Используем GridSearchCV для подбора n_estimators\n",
        "grid_boosting = GridSearchCV(gb_classifier, param_grid_boosting, cv=5, scoring='accuracy', n_jobs=-1)\n",
        "grid_boosting.fit(X_train, y_train)\n",
        "\n",
        "# Лучшие параметры\n",
        "print(\"Лучшее количество базовых алгоритмов:\", grid_boosting.best_params_)\n",
        "print(\"Лучшая точность:\", grid_boosting.best_score_)\n",
        "\n",
        "# Оценка лучшей модели на тестовом наборе\n",
        "best_boosting_model = grid_boosting.best_estimator_\n",
        "y_pred = best_boosting_model.predict(X_test)\n",
        "print(\"\\nОтчет о классификации на тестовом наборе:\")\n",
        "print(classification_report(y_test, y_pred))"
      ],
      "metadata": {
        "colab": {
          "base_uri": "https://localhost:8080/"
        },
        "id": "NoP6KB6_FjOo",
        "outputId": "793c3dd6-aa0b-4858-9732-4504b191bfca"
      },
      "execution_count": null,
      "outputs": [
        {
          "output_type": "stream",
          "name": "stderr",
          "text": [
            "/usr/local/lib/python3.10/dist-packages/sklearn/ensemble/_weight_boosting.py:527: FutureWarning: The SAMME.R algorithm (the default) is deprecated and will be removed in 1.6. Use the SAMME algorithm to circumvent this warning.\n",
            "  warnings.warn(\n"
          ]
        },
        {
          "output_type": "stream",
          "name": "stdout",
          "text": [
            "Лучшее количество базовых алгоритмов: {'n_estimators': 52}\n",
            "Лучшая точность: 0.7887500000000001\n",
            "\n",
            "Отчет о классификации на тестовом наборе:\n",
            "              precision    recall  f1-score   support\n",
            "\n",
            "           0       0.77      0.85      0.81       104\n",
            "           1       0.81      0.73      0.77        96\n",
            "\n",
            "    accuracy                           0.79       200\n",
            "   macro avg       0.79      0.79      0.79       200\n",
            "weighted avg       0.79      0.79      0.79       200\n",
            "\n"
          ]
        }
      ]
    }
  ]
}