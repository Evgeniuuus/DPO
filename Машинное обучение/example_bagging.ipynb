{
  "nbformat": 4,
  "nbformat_minor": 0,
  "metadata": {
    "colab": {
      "provenance": []
    },
    "kernelspec": {
      "name": "python3",
      "display_name": "Python 3"
    },
    "language_info": {
      "name": "python"
    }
  },
  "cells": [
    {
      "cell_type": "code",
      "source": [
        "import pandas as pd\n",
        "import numpy as np\n",
        "from sklearn.model_selection import train_test_split\n",
        "from sklearn.preprocessing import StandardScaler\n",
        "from sklearn.svm import SVC\n",
        "from sklearn.neighbors import KNeighborsClassifier\n",
        "from sklearn.neighbors import LocalOutlierFactor\n",
        "from sklearn.tree import DecisionTreeClassifier\n",
        "from sklearn.linear_model import LogisticRegression\n",
        "from sklearn.ensemble import StackingClassifier\n",
        "from sklearn.metrics import classification_report\n",
        "from imblearn.over_sampling import RandomOverSampler"
      ],
      "metadata": {
        "id": "gX94TDdrru0C"
      },
      "execution_count": null,
      "outputs": []
    },
    {
      "cell_type": "code",
      "source": [
        "def replace_zeros(df):\n",
        "    \"\"\"Заменяет нули на моду, исключая 0 как моду.\"\"\"\n",
        "    for col in df.select_dtypes(include=np.number):\n",
        "        counts = df[col].value_counts()\n",
        "        mode = counts.drop(0, errors='ignore').nlargest(1).index[0] if len(counts)>1 else df[col].mean()\n",
        "        df[col] = df[col].replace(0, mode)\n",
        "    return df"
      ],
      "metadata": {
        "id": "HYiAQy52u-nq"
      },
      "execution_count": null,
      "outputs": []
    },
    {
      "cell_type": "markdown",
      "source": [
        "(1) Выполните масштабирование данных."
      ],
      "metadata": {
        "id": "SpS6KOaPrcWy"
      }
    },
    {
      "cell_type": "code",
      "source": [
        "data = pd.read_csv('diabetes.csv')\n",
        "\n",
        "X = data.drop('Outcome', axis=1)\n",
        "y = data['Outcome']\n",
        "\n",
        "X = replace_zeros(X)\n",
        "\n",
        "scaler = StandardScaler()\n",
        "X_scaled = scaler.fit_transform(X)\n",
        "\n",
        "# Балансировка данных\n",
        "ros = RandomOverSampler(random_state=294)\n",
        "X_resampled, y_resampled = ros.fit_resample(X_scaled, y)\n",
        "\n",
        "X_train, X_test, y_train, y_test = train_test_split(X_resampled, y_resampled, test_size=0.2, random_state=294)"
      ],
      "metadata": {
        "id": "rWwzxAoxrcyT"
      },
      "execution_count": null,
      "outputs": []
    },
    {
      "cell_type": "markdown",
      "source": [
        "(2) Для построения ансамбля в качестве базового метода используйте поочередно изученные ранее методы с наилучшими гиперпараметрами."
      ],
      "metadata": {
        "id": "PtLf7Sdq-ba7"
      }
    },
    {
      "cell_type": "code",
      "source": [
        "from sklearn.ensemble import BaggingClassifier\n",
        "\n",
        "best_svm = SVC(C=10)\n",
        "best_knn = KNeighborsClassifier(n_neighbors=11)\n",
        "best_tree = DecisionTreeClassifier(max_depth=3)\n",
        "\n",
        "# Создание бэггинговых ансамблей для каждой базовой модели\n",
        "\n",
        "bagging_svm = BaggingClassifier(estimator=best_svm, n_estimators=10, random_state=294)\n",
        "bagging_knn = BaggingClassifier(estimator=best_knn, n_estimators=10, random_state=294)\n",
        "bagging_tree = BaggingClassifier(estimator=best_tree, n_estimators=10, random_state=294)\n",
        "\n",
        "\n",
        "#Обучение ансамблей\n",
        "bagging_svm.fit(X_train, y_train)\n",
        "bagging_knn.fit(X_train, y_train)\n",
        "bagging_tree.fit(X_train, y_train)\n",
        "\n",
        "\n",
        "#Оценка моделей\n",
        "print(\"\\nBagging SVM:\")\n",
        "print(classification_report(y_test, bagging_svm.predict(X_test)))\n",
        "\n",
        "print(\"\\nBagging KNN:\")\n",
        "print(classification_report(y_test, bagging_knn.predict(X_test)))\n",
        "\n",
        "print(\"\\nBagging Decision Tree:\")\n",
        "print(classification_report(y_test, bagging_tree.predict(X_test)))"
      ],
      "metadata": {
        "colab": {
          "base_uri": "https://localhost:8080/"
        },
        "id": "-u8IeMUJ-Yz6",
        "outputId": "d398abe0-9a4e-4ca9-eba6-b494a3b54319"
      },
      "execution_count": null,
      "outputs": [
        {
          "output_type": "stream",
          "name": "stdout",
          "text": [
            "\n",
            "Bagging SVM:\n",
            "              precision    recall  f1-score   support\n",
            "\n",
            "           0       0.78      0.79      0.78       104\n",
            "           1       0.77      0.76      0.76        96\n",
            "\n",
            "    accuracy                           0.78       200\n",
            "   macro avg       0.77      0.77      0.77       200\n",
            "weighted avg       0.77      0.78      0.77       200\n",
            "\n",
            "\n",
            "Bagging KNN:\n",
            "              precision    recall  f1-score   support\n",
            "\n",
            "           0       0.77      0.76      0.77       104\n",
            "           1       0.74      0.76      0.75        96\n",
            "\n",
            "    accuracy                           0.76       200\n",
            "   macro avg       0.76      0.76      0.76       200\n",
            "weighted avg       0.76      0.76      0.76       200\n",
            "\n",
            "\n",
            "Bagging Decision Tree:\n",
            "              precision    recall  f1-score   support\n",
            "\n",
            "           0       0.84      0.67      0.75       104\n",
            "           1       0.71      0.86      0.78        96\n",
            "\n",
            "    accuracy                           0.77       200\n",
            "   macro avg       0.78      0.77      0.76       200\n",
            "weighted avg       0.78      0.77      0.76       200\n",
            "\n"
          ]
        }
      ]
    },
    {
      "cell_type": "markdown",
      "source": [
        "(3) Получите структуру построенной модели."
      ],
      "metadata": {
        "id": "dCqcj64R_7j5"
      }
    },
    {
      "cell_type": "code",
      "source": [
        "print(bagging_svm.estimator)\n",
        "print(bagging_knn.estimator)\n",
        "print(bagging_tree.estimator)"
      ],
      "metadata": {
        "colab": {
          "base_uri": "https://localhost:8080/"
        },
        "id": "K8hY3WRj_8AS",
        "outputId": "75a99190-5af8-4385-a154-b55e6a2be04e"
      },
      "execution_count": null,
      "outputs": [
        {
          "output_type": "stream",
          "name": "stdout",
          "text": [
            "SVC(C=10)\n",
            "KNeighborsClassifier(n_neighbors=11)\n",
            "DecisionTreeClassifier(max_depth=3)\n"
          ]
        }
      ]
    },
    {
      "cell_type": "markdown",
      "source": [
        "(4) Возьмите за основу один из базовых алгоритмов и определите оптимальное количество базовых алгоритмов в ансамбле (GridSearchCV)"
      ],
      "metadata": {
        "id": "R1zP9Kk_AXds"
      }
    },
    {
      "cell_type": "code",
      "source": [
        "from sklearn.model_selection import GridSearchCV\n",
        "import matplotlib.pyplot as plt\n",
        "\n",
        "#Диапазон значений n_estimators для поиска\n",
        "param_grid_bagging = {'n_estimators': range(1, 30, 1)} # от 1 до 30 с шагом 1\n",
        "\n",
        "\n",
        "#Создание BaggingClassifier\n",
        "bagging_tree = BaggingClassifier(estimator=best_tree, random_state=42)\n",
        "\n",
        "\n",
        "#Использование GridSearchCV для подбора n_estimators\n",
        "grid_bagging = GridSearchCV(bagging_tree, param_grid_bagging, cv=5, scoring='precision', n_jobs=-1) #n_jobs=-1 использует все ядра процессора\n",
        "grid_bagging.fit(X_train, y_train)\n",
        "\n",
        "#Лучшие параметры\n",
        "print(\"Лучшее количество базовых алгоритмов:\", grid_bagging.best_params_)\n",
        "print(\"Лучшая точность:\", grid_bagging.best_score_)\n",
        "\n",
        "\n",
        "#Оценка лучшей модели на тестовом наборе\n",
        "best_bagging_model = grid_bagging.best_estimator_\n",
        "y_pred = best_bagging_model.predict(X_test)\n",
        "print(\"\\nОтчет о классификации на тестовом наборе:\")\n",
        "print(classification_report(y_test, y_pred))"
      ],
      "metadata": {
        "colab": {
          "base_uri": "https://localhost:8080/"
        },
        "id": "6KRFNfVYAX2X",
        "outputId": "2aca4e99-6a39-47c6-d2d6-7774fed24d42"
      },
      "execution_count": null,
      "outputs": [
        {
          "output_type": "stream",
          "name": "stdout",
          "text": [
            "Лучшее количество базовых алгоритмов: {'n_estimators': 12}\n",
            "Лучшая точность: 0.7609870561345009\n",
            "\n",
            "Отчет о классификации на тестовом наборе:\n",
            "              precision    recall  f1-score   support\n",
            "\n",
            "           0       0.76      0.75      0.76       104\n",
            "           1       0.73      0.75      0.74        96\n",
            "\n",
            "    accuracy                           0.75       200\n",
            "   macro avg       0.75      0.75      0.75       200\n",
            "weighted avg       0.75      0.75      0.75       200\n",
            "\n"
          ]
        }
      ]
    },
    {
      "cell_type": "markdown",
      "source": [
        "Вывод: Дальнейшее увеличение числа алгоритмов не увеличивает качество"
      ],
      "metadata": {
        "id": "9f7pTnLGB1Rg"
      }
    }
  ]
}