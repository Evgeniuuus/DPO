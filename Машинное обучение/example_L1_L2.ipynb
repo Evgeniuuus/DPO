{
  "nbformat": 4,
  "nbformat_minor": 0,
  "metadata": {
    "colab": {
      "provenance": []
    },
    "kernelspec": {
      "name": "python3",
      "display_name": "Python 3"
    },
    "language_info": {
      "name": "python"
    }
  },
  "cells": [
    {
      "cell_type": "markdown",
      "source": [
        "1. Загрузите данные в DataFrame, используя функцию read_csv."
      ],
      "metadata": {
        "id": "ZCMEcakWLzKA"
      }
    },
    {
      "cell_type": "code",
      "execution_count": null,
      "metadata": {
        "id": "zZ91t1FmK57H"
      },
      "outputs": [],
      "source": [
        "import pandas as pd\n",
        "import numpy as np\n",
        "from sklearn.model_selection import train_test_split\n",
        "from sklearn.linear_model import LassoCV\n",
        "from sklearn.linear_model import RidgeCV\n",
        "\n",
        "df = pd.read_csv('house_price.csv')"
      ]
    },
    {
      "cell_type": "markdown",
      "source": [
        "\n",
        "2. Сколько строк и столбцов в данных? Есть ли пропуски? Для ответа на\n",
        "вопросы используйте метод info()."
      ],
      "metadata": {
        "id": "IoyVHDsPL1cy"
      }
    },
    {
      "cell_type": "code",
      "source": [
        "df.info()\n",
        "print(f\"\\nстрок: {len(df)}\")\n",
        "print(f\"столбцов: {len(df.columns)}\")\n",
        "print(\"т.к. не все столбцы имеют 1460 non-null значений, значит, есть пропуски\")"
      ],
      "metadata": {
        "colab": {
          "base_uri": "https://localhost:8080/"
        },
        "id": "w25S-6OGL4W5",
        "outputId": "b3be959c-85d0-4ba6-a85b-abd47b09b40e"
      },
      "execution_count": null,
      "outputs": [
        {
          "output_type": "stream",
          "name": "stdout",
          "text": [
            "<class 'pandas.core.frame.DataFrame'>\n",
            "RangeIndex: 1460 entries, 0 to 1459\n",
            "Data columns (total 81 columns):\n",
            " #   Column         Non-Null Count  Dtype  \n",
            "---  ------         --------------  -----  \n",
            " 0   Id             1460 non-null   int64  \n",
            " 1   MSSubClass     1460 non-null   int64  \n",
            " 2   MSZoning       1460 non-null   object \n",
            " 3   LotFrontage    1201 non-null   float64\n",
            " 4   LotArea        1460 non-null   int64  \n",
            " 5   Street         1460 non-null   object \n",
            " 6   Alley          91 non-null     object \n",
            " 7   LotShape       1460 non-null   object \n",
            " 8   LandContour    1460 non-null   object \n",
            " 9   Utilities      1460 non-null   object \n",
            " 10  LotConfig      1460 non-null   object \n",
            " 11  LandSlope      1460 non-null   object \n",
            " 12  Neighborhood   1460 non-null   object \n",
            " 13  Condition1     1460 non-null   object \n",
            " 14  Condition2     1460 non-null   object \n",
            " 15  BldgType       1460 non-null   object \n",
            " 16  HouseStyle     1460 non-null   object \n",
            " 17  OverallQual    1460 non-null   int64  \n",
            " 18  OverallCond    1460 non-null   int64  \n",
            " 19  YearBuilt      1460 non-null   int64  \n",
            " 20  YearRemodAdd   1460 non-null   int64  \n",
            " 21  RoofStyle      1460 non-null   object \n",
            " 22  RoofMatl       1460 non-null   object \n",
            " 23  Exterior1st    1460 non-null   object \n",
            " 24  Exterior2nd    1460 non-null   object \n",
            " 25  MasVnrType     588 non-null    object \n",
            " 26  MasVnrArea     1452 non-null   float64\n",
            " 27  ExterQual      1460 non-null   object \n",
            " 28  ExterCond      1460 non-null   object \n",
            " 29  Foundation     1460 non-null   object \n",
            " 30  BsmtQual       1423 non-null   object \n",
            " 31  BsmtCond       1423 non-null   object \n",
            " 32  BsmtExposure   1422 non-null   object \n",
            " 33  BsmtFinType1   1423 non-null   object \n",
            " 34  BsmtFinSF1     1460 non-null   int64  \n",
            " 35  BsmtFinType2   1422 non-null   object \n",
            " 36  BsmtFinSF2     1460 non-null   int64  \n",
            " 37  BsmtUnfSF      1460 non-null   int64  \n",
            " 38  TotalBsmtSF    1460 non-null   int64  \n",
            " 39  Heating        1460 non-null   object \n",
            " 40  HeatingQC      1460 non-null   object \n",
            " 41  CentralAir     1460 non-null   object \n",
            " 42  Electrical     1459 non-null   object \n",
            " 43  1stFlrSF       1460 non-null   int64  \n",
            " 44  2ndFlrSF       1460 non-null   int64  \n",
            " 45  LowQualFinSF   1460 non-null   int64  \n",
            " 46  GrLivArea      1460 non-null   int64  \n",
            " 47  BsmtFullBath   1460 non-null   int64  \n",
            " 48  BsmtHalfBath   1460 non-null   int64  \n",
            " 49  FullBath       1460 non-null   int64  \n",
            " 50  HalfBath       1460 non-null   int64  \n",
            " 51  BedroomAbvGr   1460 non-null   int64  \n",
            " 52  KitchenAbvGr   1460 non-null   int64  \n",
            " 53  KitchenQual    1460 non-null   object \n",
            " 54  TotRmsAbvGrd   1460 non-null   int64  \n",
            " 55  Functional     1460 non-null   object \n",
            " 56  Fireplaces     1460 non-null   int64  \n",
            " 57  FireplaceQu    770 non-null    object \n",
            " 58  GarageType     1379 non-null   object \n",
            " 59  GarageYrBlt    1379 non-null   float64\n",
            " 60  GarageFinish   1379 non-null   object \n",
            " 61  GarageCars     1460 non-null   int64  \n",
            " 62  GarageArea     1460 non-null   int64  \n",
            " 63  GarageQual     1379 non-null   object \n",
            " 64  GarageCond     1379 non-null   object \n",
            " 65  PavedDrive     1460 non-null   object \n",
            " 66  WoodDeckSF     1460 non-null   int64  \n",
            " 67  OpenPorchSF    1460 non-null   int64  \n",
            " 68  EnclosedPorch  1460 non-null   int64  \n",
            " 69  3SsnPorch      1460 non-null   int64  \n",
            " 70  ScreenPorch    1460 non-null   int64  \n",
            " 71  PoolArea       1460 non-null   int64  \n",
            " 72  PoolQC         7 non-null      object \n",
            " 73  Fence          281 non-null    object \n",
            " 74  MiscFeature    54 non-null     object \n",
            " 75  MiscVal        1460 non-null   int64  \n",
            " 76  MoSold         1460 non-null   int64  \n",
            " 77  YrSold         1460 non-null   int64  \n",
            " 78  SaleType       1460 non-null   object \n",
            " 79  SaleCondition  1460 non-null   object \n",
            " 80  SalePrice      1460 non-null   int64  \n",
            "dtypes: float64(3), int64(35), object(43)\n",
            "memory usage: 924.0+ KB\n",
            "\n",
            "строк: 1460\n",
            "столбцов: 81\n",
            "т.к. не все столбцы имеют 1460 non-null значений, значит, есть пропуски\n"
          ]
        }
      ]
    },
    {
      "cell_type": "markdown",
      "source": [
        "3. Для выполнения задания в наборе данных необходимо оставить только\n",
        "числовые признаки."
      ],
      "metadata": {
        "id": "uwxkHvcWMd8o"
      }
    },
    {
      "cell_type": "code",
      "source": [
        "df = df.select_dtypes([np.number])\n",
        "print(f\"осталось столбцов: {len(df.columns)}\")"
      ],
      "metadata": {
        "colab": {
          "base_uri": "https://localhost:8080/"
        },
        "id": "MTJ-303wMhoD",
        "outputId": "a67abbd8-6f0a-41e8-9362-69bf8a99284d"
      },
      "execution_count": null,
      "outputs": [
        {
          "output_type": "stream",
          "name": "stdout",
          "text": [
            "осталось столбцов: 38\n"
          ]
        }
      ]
    },
    {
      "cell_type": "markdown",
      "source": [
        "4. Удалите столбец Id и пропущенные значения"
      ],
      "metadata": {
        "id": "JhJU_RIJMxe7"
      }
    },
    {
      "cell_type": "code",
      "source": [
        "df.drop('Id', axis=1, inplace=True)\n",
        "\n",
        "print(\"столбцы с пропущенными значениями\")\n",
        "def na_data_calc(df):\n",
        "  na_count = df.isnull().sum().sort_values(ascending=False)\n",
        "  na_rate = na_count / len(df)\n",
        "  na_data = pd.concat([na_count, na_rate],\n",
        "                      axis=1,\n",
        "                      keys=['count','ratio'])\n",
        "  return na_data[na_data[\"count\"] > 0]\n",
        "print(na_data_calc(df))\n",
        "\n",
        "# удалим столбцы, где больше 0.15 пропущено\n",
        "df.drop(na_data_calc(df)[na_data_calc(df)[\"ratio\"] > 0.15].index, axis=1, inplace=True)\n",
        "print(f\"\\nосталось столбцов: {len(df.columns)}\")\n",
        "\n",
        "# удалим строки с пропущенными значениями\n",
        "print(f\"\\nбыло строк: {len(df)}\")\n",
        "df = df.dropna()\n",
        "print(f\"осталось строк: {len(df)}\")"
      ],
      "metadata": {
        "colab": {
          "base_uri": "https://localhost:8080/"
        },
        "id": "cLPSFDsDMx73",
        "outputId": "c9e52a67-780c-4c33-fee7-f2ced51b97e4"
      },
      "execution_count": null,
      "outputs": [
        {
          "output_type": "stream",
          "name": "stdout",
          "text": [
            "столбцы с пропущенными значениями\n",
            "             count     ratio\n",
            "LotFrontage    259  0.177397\n",
            "GarageYrBlt     81  0.055479\n",
            "MasVnrArea       8  0.005479\n",
            "\n",
            "осталось столбцов: 36\n",
            "\n",
            "было строк: 1460\n",
            "осталось строк: 1371\n"
          ]
        }
      ]
    },
    {
      "cell_type": "markdown",
      "source": [
        "5. Разделите набор данных на входные данные X (все столбцы кроме\n",
        "SalePrice) и ответы y (столбец SalePrice).\n",
        "\n",
        "6. Разделите данные на обучающую и тестовую выборки."
      ],
      "metadata": {
        "id": "UxUHoFMuQBCB"
      }
    },
    {
      "cell_type": "code",
      "source": [
        "dfy = df[\"SalePrice\"]\n",
        "dfx = df.loc[:, df.columns != \"SalePrice\"]\n",
        "dfx_train, dfx_test, dfy_train, dfy_test = train_test_split(dfx, dfy, test_size=0.3)\n",
        "print(\"количество строк для обучения:\", len(dfx_train))\n",
        "print(\"количество строк для тестирования:\", len(dfy_test))"
      ],
      "metadata": {
        "colab": {
          "base_uri": "https://localhost:8080/"
        },
        "id": "jMhQ5bNXQE7v",
        "outputId": "893cd3dd-354e-4171-91d9-f31475dceb8d"
      },
      "execution_count": null,
      "outputs": [
        {
          "output_type": "stream",
          "name": "stdout",
          "text": [
            "количество строк для обучения: 959\n",
            "количество строк для тестирования: 412\n"
          ]
        }
      ]
    },
    {
      "cell_type": "markdown",
      "source": [
        "7. Обучите модель LassoCV (установите значение гиперпараметра cv\n",
        "самостоятельно). Оцените качество полученной модели. Посмотрите на\n",
        "коэффициенты модели. Есть ли коэффициенты равные 0? Что это означает?"
      ],
      "metadata": {
        "id": "2AFMjni5Q7hf"
      }
    },
    {
      "cell_type": "code",
      "source": [
        "regl1 = LassoCV(cv=5).fit(dfx_train, dfy_train)\n",
        "regl1_sc = regl1.score(dfx_test, dfy_test)\n",
        "print(\"LassoCV score:\", round(regl1_sc, 3))\n",
        "print(\"LassoCV coef:\")\n",
        "print(regl1.coef_)\n",
        "print(\"есть нулевые коэффициенты?\", not all(regl1.coef_))\n",
        "print(\"они означают, что соответствующие столбцы не важны для модели.\")"
      ],
      "metadata": {
        "colab": {
          "base_uri": "https://localhost:8080/"
        },
        "id": "MYdm4bFvQ8Q_",
        "outputId": "70ecc6b0-19b5-4a55-ccb2-8b1ce2d16632"
      },
      "execution_count": null,
      "outputs": [
        {
          "output_type": "stream",
          "name": "stdout",
          "text": [
            "LassoCV score: 0.761\n",
            "LassoCV coef:\n",
            "[ -0.           0.33405324   0.           0.         282.53646073\n",
            " 144.37320273  45.26884842   7.23998718  -0.           0.\n",
            "  33.24310785   0.           0.          -0.          61.50593129\n",
            "   0.          -0.           0.           0.          -0.\n",
            "  -0.           0.           0.           0.           0.\n",
            "  62.07405213  29.63779682   0.          -0.           0.\n",
            "  17.10690114 -23.26905842  -0.33380935   0.          -0.        ]\n",
            "есть нулевые коэффициенты? True\n",
            "они означают, что соответствующие столбцы не важны для модели.\n"
          ]
        }
      ]
    },
    {
      "cell_type": "markdown",
      "source": [
        "Попробуйте их убрать и построить модель заново. Как изменилось качество\n",
        "полученной модели?"
      ],
      "metadata": {
        "id": "oFbFnBOdTI6c"
      }
    },
    {
      "cell_type": "code",
      "source": [
        "dfx2 = dfx[[col for i, col in enumerate(dfx.columns) if regl1.coef_[i] != 0]]\n",
        "dfx2_train, dfx2_test, dfy2_train, dfy2_test = train_test_split(dfx2, dfy, test_size=0.3)\n",
        "\n",
        "reg2l1 = LassoCV(cv=5).fit(dfx2_train, dfy2_train)\n",
        "reg2l1_sc = reg2l1.score(dfx2_test, dfy2_test)\n",
        "print(\"LassoCV score:\", round(reg2l1_sc, 3))\n",
        "print(\"LassoCV coef:\")\n",
        "print(reg2l1.coef_)\n",
        "\n",
        "print(\"\\nкачество модели\",\n",
        "      \"снизилось\" if (reg2l1_sc < regl1_sc) else \"улучшилось\",\n",
        "      \"на\", round(abs(reg2l1_sc - regl1_sc), 3))"
      ],
      "metadata": {
        "colab": {
          "base_uri": "https://localhost:8080/"
        },
        "id": "N1TWgs99TJ0d",
        "outputId": "f738441b-c693-427b-fe7b-3a48894af17a"
      },
      "execution_count": null,
      "outputs": [
        {
          "output_type": "stream",
          "name": "stdout",
          "text": [
            "LassoCV score: 0.758\n",
            "LassoCV coef:\n",
            "[ 3.12040630e-01  3.65191441e+02  9.29075320e+01  1.78520786e+01\n",
            "  4.37910494e+00  3.13100161e+01  6.46379707e+01  7.17047006e+01\n",
            "  2.99560513e+01  3.77271178e+01 -0.00000000e+00 -8.46823196e-02]\n",
            "\n",
            "качество модели снизилось на 0.002\n"
          ]
        }
      ]
    },
    {
      "cell_type": "markdown",
      "source": [
        "8. Попробуйте использовать L2-регуляризацию, т.е. обучите модель RidgeCV.\n",
        "Сравните полученный результат LassoCV и RidgeCV."
      ],
      "metadata": {
        "id": "RX4llguSX6CT"
      }
    },
    {
      "cell_type": "code",
      "source": [
        "regl2 = RidgeCV().fit(dfx_train, dfy_train)\n",
        "regl2_sc = regl2.score(dfx_test, dfy_test)\n",
        "print(\"RidgeCV score:\", round(regl2_sc, 3))\n",
        "print(\"по коэффициенту детерминации лучше\",\n",
        "      \"RidgeCV\" if regl2_sc > reg2l1_sc else \"LassoCV\")"
      ],
      "metadata": {
        "colab": {
          "base_uri": "https://localhost:8080/"
        },
        "id": "8_RHcVWkX6qW",
        "outputId": "086ace33-5bed-4f53-85ad-82b66d63748c"
      },
      "execution_count": null,
      "outputs": [
        {
          "output_type": "stream",
          "name": "stdout",
          "text": [
            "RidgeCV score: 0.802\n",
            "по коэффициенту детерминации лучше RidgeCV\n"
          ]
        }
      ]
    },
    {
      "cell_type": "markdown",
      "source": [
        "Дополнительно: используя MinMaxScaler приведите данные к одному масштабу и попробуйте использовать полином 2-й степени с L2 регуляризацией (Ridge). Получите коэффициент детерминации для тестового и обучающего наборов данных."
      ],
      "metadata": {
        "id": "MRMKzELPd3yx"
      }
    },
    {
      "cell_type": "code",
      "source": [
        "from sklearn.preprocessing import MinMaxScaler\n",
        "from sklearn.preprocessing import PolynomialFeatures  # Класс преобразователь.\n",
        "\n",
        "scaler = MinMaxScaler()\n",
        "df_scaled = pd.DataFrame(scaler.fit_transform(df), columns=df.columns)\n",
        "\n",
        "dfsy = df_scaled[\"SalePrice\"]\n",
        "dfsx = df_scaled.loc[:, df_scaled.columns != \"SalePrice\"]\n",
        "dfsx_train, dfsx_test, dfsy_train, dfsy_test = train_test_split(dfsx, dfsy, test_size=0.3)\n",
        "\n",
        "quad = PolynomialFeatures(degree=2)\n",
        "dfsxq_train = quad.fit_transform(dfsx_train)\n",
        "dfsxq_test = quad.fit_transform(dfsx_test)\n",
        "\n",
        "reg2l2 = RidgeCV().fit(dfsxq_train, dfsy_train)\n",
        "reg2l2_sc = reg2l2.score(dfsxq_test, dfsy_test)\n",
        "print(\"RidgeCV score:\", round(reg2l2_sc, 3))\n",
        "print(\"по коэффициенту детерминации лучше\",\n",
        "      \"RidgeCV 1 степени\" if regl2_sc > reg2l2_sc else \"RidgeCV 2 степени с нормализацией\")"
      ],
      "metadata": {
        "colab": {
          "base_uri": "https://localhost:8080/"
        },
        "id": "NKpxHifwd4mB",
        "outputId": "feaafba3-7445-49f7-ebc5-330ecb9fae0c"
      },
      "execution_count": null,
      "outputs": [
        {
          "output_type": "stream",
          "name": "stdout",
          "text": [
            "RidgeCV score: 0.872\n",
            "по коэффициенту детерминации лучше RidgeCV 2 степени с нормализацией\n"
          ]
        }
      ]
    }
  ]
}