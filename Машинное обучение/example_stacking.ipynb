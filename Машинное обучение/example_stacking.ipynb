{
  "nbformat": 4,
  "nbformat_minor": 0,
  "metadata": {
    "colab": {
      "provenance": []
    },
    "kernelspec": {
      "name": "python3",
      "display_name": "Python 3"
    },
    "language_info": {
      "name": "python"
    }
  },
  "cells": [
    {
      "cell_type": "code",
      "source": [
        "import pandas as pd\n",
        "import numpy as np\n",
        "from sklearn.model_selection import train_test_split\n",
        "from sklearn.preprocessing import StandardScaler\n",
        "from sklearn.svm import SVC\n",
        "from sklearn.neighbors import KNeighborsClassifier\n",
        "from sklearn.neighbors import LocalOutlierFactor\n",
        "from sklearn.tree import DecisionTreeClassifier\n",
        "from sklearn.linear_model import LogisticRegression\n",
        "from sklearn.ensemble import StackingClassifier\n",
        "from sklearn.metrics import classification_report\n",
        "from imblearn.over_sampling import RandomOverSampler"
      ],
      "metadata": {
        "id": "gX94TDdrru0C"
      },
      "execution_count": null,
      "outputs": []
    },
    {
      "cell_type": "code",
      "source": [
        "def replace_zeros(df):\n",
        "    \"\"\"Заменяет нули на моду, исключая 0 как моду.\"\"\"\n",
        "    for col in df.select_dtypes(include=np.number):\n",
        "        counts = df[col].value_counts()\n",
        "        mode = counts.drop(0, errors='ignore').nlargest(1).index[0] if len(counts)>1 else df[col].mean()\n",
        "        df[col] = df[col].replace(0, mode)\n",
        "    return df"
      ],
      "metadata": {
        "id": "HYiAQy52u-nq"
      },
      "execution_count": null,
      "outputs": []
    },
    {
      "cell_type": "markdown",
      "source": [
        "(1) Выполните масштабирование данных."
      ],
      "metadata": {
        "id": "SpS6KOaPrcWy"
      }
    },
    {
      "cell_type": "code",
      "source": [
        "data = pd.read_csv('diabetes.csv')\n",
        "\n",
        "X = data.drop('Outcome', axis=1)\n",
        "y = data['Outcome']\n",
        "\n",
        "X = replace_zeros(X)\n",
        "\n",
        "scaler = StandardScaler()\n",
        "X_scaled = scaler.fit_transform(X)\n",
        "\n",
        "# Балансировка данных\n",
        "ros = RandomOverSampler(random_state=294)\n",
        "X_resampled, y_resampled = ros.fit_resample(X_scaled, y)\n",
        "\n",
        "X_train, X_test, y_train, y_test = train_test_split(X_resampled, y_resampled, test_size=0.2, random_state=294)"
      ],
      "metadata": {
        "id": "rWwzxAoxrcyT"
      },
      "execution_count": null,
      "outputs": []
    },
    {
      "cell_type": "markdown",
      "source": [
        "Нули заменены на моду"
      ],
      "metadata": {
        "id": "5ns4WKbp2fGg"
      }
    },
    {
      "cell_type": "code",
      "source": [
        "X.head()"
      ],
      "metadata": {
        "colab": {
          "base_uri": "https://localhost:8080/",
          "height": 206
        },
        "id": "wbtY6v14yBaj",
        "outputId": "b4c608c2-8ee2-4ca4-d680-97e68b243f53"
      },
      "execution_count": null,
      "outputs": [
        {
          "output_type": "execute_result",
          "data": {
            "text/plain": [
              "   Pregnancies  Glucose  BloodPressure  SkinThickness  Insulin   BMI  \\\n",
              "0            6      148             72             35      105  33.6   \n",
              "1            1       85             66             29      105  26.6   \n",
              "2            8      183             64             32      105  23.3   \n",
              "3            1       89             66             23       94  28.1   \n",
              "4            1      137             40             35      168  43.1   \n",
              "\n",
              "   DiabetesPedigreeFunction  Age  \n",
              "0                     0.627   50  \n",
              "1                     0.351   31  \n",
              "2                     0.672   32  \n",
              "3                     0.167   21  \n",
              "4                     2.288   33  "
            ],
            "text/html": [
              "\n",
              "  <div id=\"df-8c64d05d-5086-47a8-9dff-c30235309d42\" class=\"colab-df-container\">\n",
              "    <div>\n",
              "<style scoped>\n",
              "    .dataframe tbody tr th:only-of-type {\n",
              "        vertical-align: middle;\n",
              "    }\n",
              "\n",
              "    .dataframe tbody tr th {\n",
              "        vertical-align: top;\n",
              "    }\n",
              "\n",
              "    .dataframe thead th {\n",
              "        text-align: right;\n",
              "    }\n",
              "</style>\n",
              "<table border=\"1\" class=\"dataframe\">\n",
              "  <thead>\n",
              "    <tr style=\"text-align: right;\">\n",
              "      <th></th>\n",
              "      <th>Pregnancies</th>\n",
              "      <th>Glucose</th>\n",
              "      <th>BloodPressure</th>\n",
              "      <th>SkinThickness</th>\n",
              "      <th>Insulin</th>\n",
              "      <th>BMI</th>\n",
              "      <th>DiabetesPedigreeFunction</th>\n",
              "      <th>Age</th>\n",
              "    </tr>\n",
              "  </thead>\n",
              "  <tbody>\n",
              "    <tr>\n",
              "      <th>0</th>\n",
              "      <td>6</td>\n",
              "      <td>148</td>\n",
              "      <td>72</td>\n",
              "      <td>35</td>\n",
              "      <td>105</td>\n",
              "      <td>33.6</td>\n",
              "      <td>0.627</td>\n",
              "      <td>50</td>\n",
              "    </tr>\n",
              "    <tr>\n",
              "      <th>1</th>\n",
              "      <td>1</td>\n",
              "      <td>85</td>\n",
              "      <td>66</td>\n",
              "      <td>29</td>\n",
              "      <td>105</td>\n",
              "      <td>26.6</td>\n",
              "      <td>0.351</td>\n",
              "      <td>31</td>\n",
              "    </tr>\n",
              "    <tr>\n",
              "      <th>2</th>\n",
              "      <td>8</td>\n",
              "      <td>183</td>\n",
              "      <td>64</td>\n",
              "      <td>32</td>\n",
              "      <td>105</td>\n",
              "      <td>23.3</td>\n",
              "      <td>0.672</td>\n",
              "      <td>32</td>\n",
              "    </tr>\n",
              "    <tr>\n",
              "      <th>3</th>\n",
              "      <td>1</td>\n",
              "      <td>89</td>\n",
              "      <td>66</td>\n",
              "      <td>23</td>\n",
              "      <td>94</td>\n",
              "      <td>28.1</td>\n",
              "      <td>0.167</td>\n",
              "      <td>21</td>\n",
              "    </tr>\n",
              "    <tr>\n",
              "      <th>4</th>\n",
              "      <td>1</td>\n",
              "      <td>137</td>\n",
              "      <td>40</td>\n",
              "      <td>35</td>\n",
              "      <td>168</td>\n",
              "      <td>43.1</td>\n",
              "      <td>2.288</td>\n",
              "      <td>33</td>\n",
              "    </tr>\n",
              "  </tbody>\n",
              "</table>\n",
              "</div>\n",
              "    <div class=\"colab-df-buttons\">\n",
              "\n",
              "  <div class=\"colab-df-container\">\n",
              "    <button class=\"colab-df-convert\" onclick=\"convertToInteractive('df-8c64d05d-5086-47a8-9dff-c30235309d42')\"\n",
              "            title=\"Convert this dataframe to an interactive table.\"\n",
              "            style=\"display:none;\">\n",
              "\n",
              "  <svg xmlns=\"http://www.w3.org/2000/svg\" height=\"24px\" viewBox=\"0 -960 960 960\">\n",
              "    <path d=\"M120-120v-720h720v720H120Zm60-500h600v-160H180v160Zm220 220h160v-160H400v160Zm0 220h160v-160H400v160ZM180-400h160v-160H180v160Zm440 0h160v-160H620v160ZM180-180h160v-160H180v160Zm440 0h160v-160H620v160Z\"/>\n",
              "  </svg>\n",
              "    </button>\n",
              "\n",
              "  <style>\n",
              "    .colab-df-container {\n",
              "      display:flex;\n",
              "      gap: 12px;\n",
              "    }\n",
              "\n",
              "    .colab-df-convert {\n",
              "      background-color: #E8F0FE;\n",
              "      border: none;\n",
              "      border-radius: 50%;\n",
              "      cursor: pointer;\n",
              "      display: none;\n",
              "      fill: #1967D2;\n",
              "      height: 32px;\n",
              "      padding: 0 0 0 0;\n",
              "      width: 32px;\n",
              "    }\n",
              "\n",
              "    .colab-df-convert:hover {\n",
              "      background-color: #E2EBFA;\n",
              "      box-shadow: 0px 1px 2px rgba(60, 64, 67, 0.3), 0px 1px 3px 1px rgba(60, 64, 67, 0.15);\n",
              "      fill: #174EA6;\n",
              "    }\n",
              "\n",
              "    .colab-df-buttons div {\n",
              "      margin-bottom: 4px;\n",
              "    }\n",
              "\n",
              "    [theme=dark] .colab-df-convert {\n",
              "      background-color: #3B4455;\n",
              "      fill: #D2E3FC;\n",
              "    }\n",
              "\n",
              "    [theme=dark] .colab-df-convert:hover {\n",
              "      background-color: #434B5C;\n",
              "      box-shadow: 0px 1px 3px 1px rgba(0, 0, 0, 0.15);\n",
              "      filter: drop-shadow(0px 1px 2px rgba(0, 0, 0, 0.3));\n",
              "      fill: #FFFFFF;\n",
              "    }\n",
              "  </style>\n",
              "\n",
              "    <script>\n",
              "      const buttonEl =\n",
              "        document.querySelector('#df-8c64d05d-5086-47a8-9dff-c30235309d42 button.colab-df-convert');\n",
              "      buttonEl.style.display =\n",
              "        google.colab.kernel.accessAllowed ? 'block' : 'none';\n",
              "\n",
              "      async function convertToInteractive(key) {\n",
              "        const element = document.querySelector('#df-8c64d05d-5086-47a8-9dff-c30235309d42');\n",
              "        const dataTable =\n",
              "          await google.colab.kernel.invokeFunction('convertToInteractive',\n",
              "                                                    [key], {});\n",
              "        if (!dataTable) return;\n",
              "\n",
              "        const docLinkHtml = 'Like what you see? Visit the ' +\n",
              "          '<a target=\"_blank\" href=https://colab.research.google.com/notebooks/data_table.ipynb>data table notebook</a>'\n",
              "          + ' to learn more about interactive tables.';\n",
              "        element.innerHTML = '';\n",
              "        dataTable['output_type'] = 'display_data';\n",
              "        await google.colab.output.renderOutput(dataTable, element);\n",
              "        const docLink = document.createElement('div');\n",
              "        docLink.innerHTML = docLinkHtml;\n",
              "        element.appendChild(docLink);\n",
              "      }\n",
              "    </script>\n",
              "  </div>\n",
              "\n",
              "\n",
              "<div id=\"df-8a16390f-2fd4-415b-9be0-b348a9c161d7\">\n",
              "  <button class=\"colab-df-quickchart\" onclick=\"quickchart('df-8a16390f-2fd4-415b-9be0-b348a9c161d7')\"\n",
              "            title=\"Suggest charts\"\n",
              "            style=\"display:none;\">\n",
              "\n",
              "<svg xmlns=\"http://www.w3.org/2000/svg\" height=\"24px\"viewBox=\"0 0 24 24\"\n",
              "     width=\"24px\">\n",
              "    <g>\n",
              "        <path d=\"M19 3H5c-1.1 0-2 .9-2 2v14c0 1.1.9 2 2 2h14c1.1 0 2-.9 2-2V5c0-1.1-.9-2-2-2zM9 17H7v-7h2v7zm4 0h-2V7h2v10zm4 0h-2v-4h2v4z\"/>\n",
              "    </g>\n",
              "</svg>\n",
              "  </button>\n",
              "\n",
              "<style>\n",
              "  .colab-df-quickchart {\n",
              "      --bg-color: #E8F0FE;\n",
              "      --fill-color: #1967D2;\n",
              "      --hover-bg-color: #E2EBFA;\n",
              "      --hover-fill-color: #174EA6;\n",
              "      --disabled-fill-color: #AAA;\n",
              "      --disabled-bg-color: #DDD;\n",
              "  }\n",
              "\n",
              "  [theme=dark] .colab-df-quickchart {\n",
              "      --bg-color: #3B4455;\n",
              "      --fill-color: #D2E3FC;\n",
              "      --hover-bg-color: #434B5C;\n",
              "      --hover-fill-color: #FFFFFF;\n",
              "      --disabled-bg-color: #3B4455;\n",
              "      --disabled-fill-color: #666;\n",
              "  }\n",
              "\n",
              "  .colab-df-quickchart {\n",
              "    background-color: var(--bg-color);\n",
              "    border: none;\n",
              "    border-radius: 50%;\n",
              "    cursor: pointer;\n",
              "    display: none;\n",
              "    fill: var(--fill-color);\n",
              "    height: 32px;\n",
              "    padding: 0;\n",
              "    width: 32px;\n",
              "  }\n",
              "\n",
              "  .colab-df-quickchart:hover {\n",
              "    background-color: var(--hover-bg-color);\n",
              "    box-shadow: 0 1px 2px rgba(60, 64, 67, 0.3), 0 1px 3px 1px rgba(60, 64, 67, 0.15);\n",
              "    fill: var(--button-hover-fill-color);\n",
              "  }\n",
              "\n",
              "  .colab-df-quickchart-complete:disabled,\n",
              "  .colab-df-quickchart-complete:disabled:hover {\n",
              "    background-color: var(--disabled-bg-color);\n",
              "    fill: var(--disabled-fill-color);\n",
              "    box-shadow: none;\n",
              "  }\n",
              "\n",
              "  .colab-df-spinner {\n",
              "    border: 2px solid var(--fill-color);\n",
              "    border-color: transparent;\n",
              "    border-bottom-color: var(--fill-color);\n",
              "    animation:\n",
              "      spin 1s steps(1) infinite;\n",
              "  }\n",
              "\n",
              "  @keyframes spin {\n",
              "    0% {\n",
              "      border-color: transparent;\n",
              "      border-bottom-color: var(--fill-color);\n",
              "      border-left-color: var(--fill-color);\n",
              "    }\n",
              "    20% {\n",
              "      border-color: transparent;\n",
              "      border-left-color: var(--fill-color);\n",
              "      border-top-color: var(--fill-color);\n",
              "    }\n",
              "    30% {\n",
              "      border-color: transparent;\n",
              "      border-left-color: var(--fill-color);\n",
              "      border-top-color: var(--fill-color);\n",
              "      border-right-color: var(--fill-color);\n",
              "    }\n",
              "    40% {\n",
              "      border-color: transparent;\n",
              "      border-right-color: var(--fill-color);\n",
              "      border-top-color: var(--fill-color);\n",
              "    }\n",
              "    60% {\n",
              "      border-color: transparent;\n",
              "      border-right-color: var(--fill-color);\n",
              "    }\n",
              "    80% {\n",
              "      border-color: transparent;\n",
              "      border-right-color: var(--fill-color);\n",
              "      border-bottom-color: var(--fill-color);\n",
              "    }\n",
              "    90% {\n",
              "      border-color: transparent;\n",
              "      border-bottom-color: var(--fill-color);\n",
              "    }\n",
              "  }\n",
              "</style>\n",
              "\n",
              "  <script>\n",
              "    async function quickchart(key) {\n",
              "      const quickchartButtonEl =\n",
              "        document.querySelector('#' + key + ' button');\n",
              "      quickchartButtonEl.disabled = true;  // To prevent multiple clicks.\n",
              "      quickchartButtonEl.classList.add('colab-df-spinner');\n",
              "      try {\n",
              "        const charts = await google.colab.kernel.invokeFunction(\n",
              "            'suggestCharts', [key], {});\n",
              "      } catch (error) {\n",
              "        console.error('Error during call to suggestCharts:', error);\n",
              "      }\n",
              "      quickchartButtonEl.classList.remove('colab-df-spinner');\n",
              "      quickchartButtonEl.classList.add('colab-df-quickchart-complete');\n",
              "    }\n",
              "    (() => {\n",
              "      let quickchartButtonEl =\n",
              "        document.querySelector('#df-8a16390f-2fd4-415b-9be0-b348a9c161d7 button');\n",
              "      quickchartButtonEl.style.display =\n",
              "        google.colab.kernel.accessAllowed ? 'block' : 'none';\n",
              "    })();\n",
              "  </script>\n",
              "</div>\n",
              "    </div>\n",
              "  </div>\n"
            ],
            "application/vnd.google.colaboratory.intrinsic+json": {
              "type": "dataframe",
              "variable_name": "X",
              "summary": "{\n  \"name\": \"X\",\n  \"rows\": 768,\n  \"fields\": [\n    {\n      \"column\": \"Pregnancies\",\n      \"properties\": {\n        \"dtype\": \"number\",\n        \"std\": 3,\n        \"min\": 1,\n        \"max\": 17,\n        \"num_unique_values\": 16,\n        \"samples\": [\n          6,\n          1,\n          10\n        ],\n        \"semantic_type\": \"\",\n        \"description\": \"\"\n      }\n    },\n    {\n      \"column\": \"Glucose\",\n      \"properties\": {\n        \"dtype\": \"number\",\n        \"std\": 30,\n        \"min\": 44,\n        \"max\": 199,\n        \"num_unique_values\": 135,\n        \"samples\": [\n          135,\n          134,\n          86\n        ],\n        \"semantic_type\": \"\",\n        \"description\": \"\"\n      }\n    },\n    {\n      \"column\": \"BloodPressure\",\n      \"properties\": {\n        \"dtype\": \"number\",\n        \"std\": 12,\n        \"min\": 24,\n        \"max\": 122,\n        \"num_unique_values\": 46,\n        \"samples\": [\n          102,\n          85,\n          86\n        ],\n        \"semantic_type\": \"\",\n        \"description\": \"\"\n      }\n    },\n    {\n      \"column\": \"SkinThickness\",\n      \"properties\": {\n        \"dtype\": \"number\",\n        \"std\": 8,\n        \"min\": 7,\n        \"max\": 99,\n        \"num_unique_values\": 50,\n        \"samples\": [\n          36,\n          12,\n          28\n        ],\n        \"semantic_type\": \"\",\n        \"description\": \"\"\n      }\n    },\n    {\n      \"column\": \"Insulin\",\n      \"properties\": {\n        \"dtype\": \"number\",\n        \"std\": 88,\n        \"min\": 14,\n        \"max\": 846,\n        \"num_unique_values\": 185,\n        \"samples\": [\n          70,\n          152,\n          274\n        ],\n        \"semantic_type\": \"\",\n        \"description\": \"\"\n      }\n    },\n    {\n      \"column\": \"BMI\",\n      \"properties\": {\n        \"dtype\": \"number\",\n        \"std\": 6.875366469974721,\n        \"min\": 18.2,\n        \"max\": 67.1,\n        \"num_unique_values\": 247,\n        \"samples\": [\n          19.9,\n          31.0,\n          38.1\n        ],\n        \"semantic_type\": \"\",\n        \"description\": \"\"\n      }\n    },\n    {\n      \"column\": \"DiabetesPedigreeFunction\",\n      \"properties\": {\n        \"dtype\": \"number\",\n        \"std\": 0.33132859501277484,\n        \"min\": 0.078,\n        \"max\": 2.42,\n        \"num_unique_values\": 517,\n        \"samples\": [\n          1.731,\n          0.426,\n          0.138\n        ],\n        \"semantic_type\": \"\",\n        \"description\": \"\"\n      }\n    },\n    {\n      \"column\": \"Age\",\n      \"properties\": {\n        \"dtype\": \"number\",\n        \"std\": 11,\n        \"min\": 21,\n        \"max\": 81,\n        \"num_unique_values\": 52,\n        \"samples\": [\n          60,\n          47,\n          72\n        ],\n        \"semantic_type\": \"\",\n        \"description\": \"\"\n      }\n    }\n  ]\n}"
            }
          },
          "metadata": {},
          "execution_count": 57
        }
      ]
    },
    {
      "cell_type": "markdown",
      "source": [
        " (2) 1-ю конфигурацию сделайте следующую: в качестве слабых учеников возьмите SVM, KNN, метод решающих деревьев с параметрами по умолчанию, в качестве метамодели - логистическую регрессию."
      ],
      "metadata": {
        "id": "RNF_FcUKrdI6"
      }
    },
    {
      "cell_type": "code",
      "source": [
        "estimators_config1 = [\n",
        "    ('svm', SVC()),\n",
        "    ('knn', KNeighborsClassifier()),\n",
        "    ('tree', DecisionTreeClassifier())\n",
        "]\n",
        "clf1 = StackingClassifier(estimators=estimators_config1, final_estimator=LogisticRegression())\n",
        "clf1.fit(X_train, y_train)\n",
        "print(\"Конфигурация 1:\")\n",
        "print(classification_report(y_test, clf1.predict(X_test)))"
      ],
      "metadata": {
        "colab": {
          "base_uri": "https://localhost:8080/"
        },
        "id": "4-ASpnV8rgFU",
        "outputId": "a04f6a53-4696-4ce6-bdbb-2cfd7b1e01d2"
      },
      "execution_count": null,
      "outputs": [
        {
          "output_type": "stream",
          "name": "stdout",
          "text": [
            "Конфигурация 1:\n",
            "              precision    recall  f1-score   support\n",
            "\n",
            "           0       0.86      0.84      0.85       104\n",
            "           1       0.83      0.85      0.84        96\n",
            "\n",
            "    accuracy                           0.84       200\n",
            "   macro avg       0.84      0.85      0.84       200\n",
            "weighted avg       0.85      0.84      0.85       200\n",
            "\n"
          ]
        }
      ]
    },
    {
      "cell_type": "markdown",
      "source": [
        "(3) 2-ю конфигурацию возьмите с таким же набором слабых учеников, но для каждого задайте наилучшие гиперпараметры на основе выполненных ранее заданий."
      ],
      "metadata": {
        "id": "Jnm2mZS1riUq"
      }
    },
    {
      "cell_type": "code",
      "source": [
        "estimators_config2 = [\n",
        "    ('svm', SVC(C=10)),\n",
        "    ('knn', KNeighborsClassifier(n_neighbors=11)),\n",
        "    ('tree', DecisionTreeClassifier(max_depth=3))\n",
        "]\n",
        "clf2 = StackingClassifier(estimators=estimators_config2, final_estimator=LogisticRegression())\n",
        "clf2.fit(X_train, y_train)\n",
        "print(\"\\nКонфигурация 2:\")\n",
        "print(classification_report(y_test, clf2.predict(X_test)))"
      ],
      "metadata": {
        "colab": {
          "base_uri": "https://localhost:8080/"
        },
        "id": "uYq3GGXdrioL",
        "outputId": "63e4ba91-759f-4218-9f5d-027670209737"
      },
      "execution_count": null,
      "outputs": [
        {
          "output_type": "stream",
          "name": "stdout",
          "text": [
            "\n",
            "Конфигурация 2:\n",
            "              precision    recall  f1-score   support\n",
            "\n",
            "           0       0.84      0.80      0.82       104\n",
            "           1       0.79      0.83      0.81        96\n",
            "\n",
            "    accuracy                           0.81       200\n",
            "   macro avg       0.82      0.82      0.81       200\n",
            "weighted avg       0.82      0.81      0.82       200\n",
            "\n"
          ]
        }
      ]
    },
    {
      "cell_type": "markdown",
      "source": [
        " (4) 3-ю конфигурацию - возьмите по два слабых ученика по каждой модели (одна с гиперпараметрами по умолчанию, вторая - с наилучшими)."
      ],
      "metadata": {
        "id": "Gm9-aOXIrlX7"
      }
    },
    {
      "cell_type": "code",
      "source": [
        "estimators_config3 = [\n",
        "    ('svm1', SVC()),\n",
        "    ('svm2', SVC(C=10)),\n",
        "    ('knn1', KNeighborsClassifier()),\n",
        "    ('knn2', KNeighborsClassifier(n_neighbors=11)),\n",
        "    ('tree1', DecisionTreeClassifier()),\n",
        "    ('tree2', DecisionTreeClassifier(max_depth=3))\n",
        "]\n",
        "clf3 = StackingClassifier(estimators=estimators_config3, final_estimator=LogisticRegression())\n",
        "clf3.fit(X_train, y_train)\n",
        "print(\"\\nКонфигурация 3:\")\n",
        "print(classification_report(y_test, clf3.predict(X_test)))"
      ],
      "metadata": {
        "colab": {
          "base_uri": "https://localhost:8080/"
        },
        "id": "lT-iQvLqrlsO",
        "outputId": "bdb3d4f3-8fb3-4aae-db73-b238ea8e507f"
      },
      "execution_count": null,
      "outputs": [
        {
          "output_type": "stream",
          "name": "stdout",
          "text": [
            "\n",
            "Конфигурация 3:\n",
            "              precision    recall  f1-score   support\n",
            "\n",
            "           0       0.86      0.83      0.84       104\n",
            "           1       0.82      0.85      0.84        96\n",
            "\n",
            "    accuracy                           0.84       200\n",
            "   macro avg       0.84      0.84      0.84       200\n",
            "weighted avg       0.84      0.84      0.84       200\n",
            "\n"
          ]
        }
      ]
    },
    {
      "cell_type": "markdown",
      "source": [
        "(5) Для каждого ансамбля моделей выведите его конфигурацию."
      ],
      "metadata": {
        "id": "_EtOC-dYrn5t"
      }
    },
    {
      "cell_type": "code",
      "source": [
        "print('Первая конфигурация')\n",
        "print(clf1.estimators_)\n",
        "\n",
        "print('Вторая конфигурация')\n",
        "print(clf2.estimators_)\n",
        "\n",
        "print('Третья конфигурация')\n",
        "print(clf3.estimators_)"
      ],
      "metadata": {
        "colab": {
          "base_uri": "https://localhost:8080/"
        },
        "id": "KpRDzG8XroYY",
        "outputId": "17bdd5eb-fe0b-40e6-bec2-af39f9ec75d9"
      },
      "execution_count": null,
      "outputs": [
        {
          "output_type": "stream",
          "name": "stdout",
          "text": [
            "Первая конфигурация\n",
            "[SVC(), KNeighborsClassifier(), DecisionTreeClassifier()]\n",
            "Вторая конфигурация\n",
            "[SVC(C=10), KNeighborsClassifier(n_neighbors=11), DecisionTreeClassifier(max_depth=3)]\n",
            "Третья конфигурация\n",
            "[SVC(), SVC(C=10), KNeighborsClassifier(), KNeighborsClassifier(n_neighbors=11), DecisionTreeClassifier(), DecisionTreeClassifier(max_depth=3)]\n"
          ]
        }
      ]
    },
    {
      "cell_type": "markdown",
      "source": [
        "(6) Проведите сравнение (classification_report) с ранее выполненными работами. Позволило ли существенно улучшить качество прогноза заболевания такое усовершенствование алгоритма? Если есть возможность выполнить подбор гиперпараметров модели - сделайте!"
      ],
      "metadata": {
        "id": "GKgcfkyLroqO"
      }
    },
    {
      "cell_type": "markdown",
      "source": [
        "Прошлые работы\n",
        "\n",
        "SVC\n",
        "\n",
        "![image.png](data:image/png;base64,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)\n",
        "\n",
        "KNN\n",
        "\n",
        "![image.png](data:image/png;base64,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)\n",
        "\n",
        "Дерево решений\n",
        "\n",
        "![image.png](data:image/png;base64,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)"
      ],
      "metadata": {
        "id": "o1YOHxvb6K-K"
      }
    },
    {
      "cell_type": "markdown",
      "source": [
        "Качество увеличилось, но не существенно"
      ],
      "metadata": {
        "id": "Vb73lnKS7aXP"
      }
    },
    {
      "cell_type": "code",
      "source": [
        "from sklearn.model_selection import GridSearchCV\n",
        "\n",
        "param_grid_svm = {'C': [0.1, 1, 10], 'kernel': ['linear', 'rbf']}\n",
        "param_grid_knn = {'n_neighbors': [3, 5, 7, 9, 11, 13, 15]}\n",
        "param_grid_tree = {'max_depth': [None, 3, 5, 7]}\n",
        "\n",
        "grid_svm = GridSearchCV(SVC(), param_grid_svm, cv=5)\n",
        "grid_knn = GridSearchCV(KNeighborsClassifier(), param_grid_knn, cv=5)\n",
        "grid_tree = GridSearchCV(DecisionTreeClassifier(), param_grid_tree, cv=5)\n",
        "\n",
        "grid_svm.fit(X_train, y_train)\n",
        "grid_knn.fit(X_train, y_train)\n",
        "grid_tree.fit(X_train, y_train)\n",
        "\n",
        "\n",
        "print(\"Лучшие параметры для SVM:\", grid_svm.best_params_)\n",
        "print(\"Лучшие параметры для KNN:\", grid_knn.best_params_)\n",
        "print(\"Лучшие параметры для Tree:\", grid_tree.best_params_)\n",
        "\n",
        "# Создание StackingClassifier с лучшими параметрами\n",
        "\n",
        "estimators_config1_tuned = [\n",
        "    ('svm', grid_svm.best_estimator_),\n",
        "    ('knn', grid_knn.best_estimator_),\n",
        "    ('tree', grid_tree.best_estimator_)\n",
        "]\n",
        "\n",
        "clf1_tuned = StackingClassifier(estimators=estimators_config1_tuned, final_estimator=LogisticRegression())\n",
        "clf1_tuned.fit(X_train, y_train)\n",
        "\n",
        "print(\"\\nКонфигурация 1 (с подобранными параметрами):\")\n",
        "print(classification_report(y_test, clf1_tuned.predict(X_test)))"
      ],
      "metadata": {
        "colab": {
          "base_uri": "https://localhost:8080/"
        },
        "id": "W5q9utA2rsqn",
        "outputId": "2ff6a15c-5172-401c-ffb1-737cd22d94a2"
      },
      "execution_count": null,
      "outputs": [
        {
          "output_type": "stream",
          "name": "stdout",
          "text": [
            "Лучшие параметры для SVM: {'C': 1, 'kernel': 'rbf'}\n",
            "Лучшие параметры для KNN: {'n_neighbors': 3}\n",
            "Лучшие параметры для Tree: {'max_depth': 7}\n",
            "\n",
            "Конфигурация 1 (с подобранными параметрами):\n",
            "              precision    recall  f1-score   support\n",
            "\n",
            "           0       0.82      0.82      0.82       104\n",
            "           1       0.80      0.80      0.80        96\n",
            "\n",
            "    accuracy                           0.81       200\n",
            "   macro avg       0.81      0.81      0.81       200\n",
            "weighted avg       0.81      0.81      0.81       200\n",
            "\n"
          ]
        }
      ]
    }
  ]
}