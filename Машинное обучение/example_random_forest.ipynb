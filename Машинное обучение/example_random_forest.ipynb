{
  "nbformat": 4,
  "nbformat_minor": 0,
  "metadata": {
    "colab": {
      "provenance": []
    },
    "kernelspec": {
      "name": "python3",
      "display_name": "Python 3"
    },
    "language_info": {
      "name": "python"
    }
  },
  "cells": [
    {
      "cell_type": "markdown",
      "source": [
        "Ансамблевые методы: частный случай Bagging - метод случайного леса (Random Forest). Для выполнения задания возьмите датасет о заболевании сахарным диабетом."
      ],
      "metadata": {
        "id": "kf-Z6RkUSNK8"
      }
    },
    {
      "cell_type": "code",
      "execution_count": null,
      "metadata": {
        "id": "6hJ9cfZySLsV",
        "colab": {
          "base_uri": "https://localhost:8080/"
        },
        "outputId": "9524d06e-0cdc-489c-b660-8280325d3805"
      },
      "outputs": [
        {
          "output_type": "stream",
          "name": "stdout",
          "text": [
            "<class 'pandas.core.frame.DataFrame'>\n",
            "RangeIndex: 768 entries, 0 to 767\n",
            "Data columns (total 9 columns):\n",
            " #   Column                    Non-Null Count  Dtype  \n",
            "---  ------                    --------------  -----  \n",
            " 0   Pregnancies               768 non-null    int64  \n",
            " 1   Glucose                   768 non-null    int64  \n",
            " 2   BloodPressure             768 non-null    int64  \n",
            " 3   SkinThickness             768 non-null    int64  \n",
            " 4   Insulin                   768 non-null    int64  \n",
            " 5   BMI                       768 non-null    float64\n",
            " 6   DiabetesPedigreeFunction  768 non-null    float64\n",
            " 7   Age                       768 non-null    int64  \n",
            " 8   Outcome                   768 non-null    int64  \n",
            "dtypes: float64(2), int64(7)\n",
            "memory usage: 54.1 KB\n"
          ]
        }
      ],
      "source": [
        "import pandas as pd\n",
        "\n",
        "df = pd.read_csv(\"diabetes.csv\")\n",
        "df.info()"
      ]
    },
    {
      "cell_type": "code",
      "source": [
        "\n",
        "df.drop(\"Insulin\", inplace=True, axis=1)\n",
        "df.drop(\"SkinThickness\", inplace=True, axis=1)\n",
        "df[df == 0].count()"
      ],
      "metadata": {
        "colab": {
          "base_uri": "https://localhost:8080/",
          "height": 303
        },
        "id": "VLmRIcF5nC7G",
        "outputId": "71787610-7314-48dc-80d4-71d4ee507475"
      },
      "execution_count": null,
      "outputs": [
        {
          "output_type": "execute_result",
          "data": {
            "text/plain": [
              "Pregnancies                 111\n",
              "Glucose                       5\n",
              "BloodPressure                35\n",
              "BMI                          11\n",
              "DiabetesPedigreeFunction      0\n",
              "Age                           0\n",
              "Outcome                     500\n",
              "dtype: int64"
            ],
            "text/html": [
              "<div>\n",
              "<style scoped>\n",
              "    .dataframe tbody tr th:only-of-type {\n",
              "        vertical-align: middle;\n",
              "    }\n",
              "\n",
              "    .dataframe tbody tr th {\n",
              "        vertical-align: top;\n",
              "    }\n",
              "\n",
              "    .dataframe thead th {\n",
              "        text-align: right;\n",
              "    }\n",
              "</style>\n",
              "<table border=\"1\" class=\"dataframe\">\n",
              "  <thead>\n",
              "    <tr style=\"text-align: right;\">\n",
              "      <th></th>\n",
              "      <th>0</th>\n",
              "    </tr>\n",
              "  </thead>\n",
              "  <tbody>\n",
              "    <tr>\n",
              "      <th>Pregnancies</th>\n",
              "      <td>111</td>\n",
              "    </tr>\n",
              "    <tr>\n",
              "      <th>Glucose</th>\n",
              "      <td>5</td>\n",
              "    </tr>\n",
              "    <tr>\n",
              "      <th>BloodPressure</th>\n",
              "      <td>35</td>\n",
              "    </tr>\n",
              "    <tr>\n",
              "      <th>BMI</th>\n",
              "      <td>11</td>\n",
              "    </tr>\n",
              "    <tr>\n",
              "      <th>DiabetesPedigreeFunction</th>\n",
              "      <td>0</td>\n",
              "    </tr>\n",
              "    <tr>\n",
              "      <th>Age</th>\n",
              "      <td>0</td>\n",
              "    </tr>\n",
              "    <tr>\n",
              "      <th>Outcome</th>\n",
              "      <td>500</td>\n",
              "    </tr>\n",
              "  </tbody>\n",
              "</table>\n",
              "</div><br><label><b>dtype:</b> int64</label>"
            ]
          },
          "metadata": {},
          "execution_count": 28
        }
      ]
    },
    {
      "cell_type": "code",
      "source": [
        "# убрать строки с отрицательными и нулевыми значениями.\n",
        "cols_to_check= [col for col in df.columns if col not in ['Pregnancies',\n",
        "                                                         'DiabetesPedigreeFunction',\n",
        "                                                         'Outcome']]\n",
        "any_zero_indexer= (df[cols_to_check] <= 0).any(axis='columns')\n",
        "df1 = df.loc[~any_zero_indexer]\n",
        "\n",
        "print(\"осталось записей:\", len(df1))"
      ],
      "metadata": {
        "colab": {
          "base_uri": "https://localhost:8080/"
        },
        "id": "wtbyCSk4Wt7V",
        "outputId": "abf54a43-6ce9-46b8-d485-b13de76c4711"
      },
      "execution_count": null,
      "outputs": [
        {
          "output_type": "stream",
          "name": "stdout",
          "text": [
            "осталось записей: 724\n"
          ]
        }
      ]
    },
    {
      "cell_type": "code",
      "source": [
        "# разделить.\n",
        "from sklearn.model_selection import train_test_split\n",
        "\n",
        "\n",
        "df1_y = df1['Outcome']\n",
        "df1_x = df1.loc[:, df1.columns != \"Outcome\"]\n",
        "\n",
        "df2x_train, df2x_test, df2y_train, df2y_test = train_test_split(df1_x, df1_y,\n",
        "                                                                test_size=0.3)\n",
        "print(\"количество для тренировки:\", len(df2x_train))\n",
        "print(\"количество для проверки:\", len(df2y_test))"
      ],
      "metadata": {
        "colab": {
          "base_uri": "https://localhost:8080/"
        },
        "id": "rfHu1_1ZXnuV",
        "outputId": "db1d12ec-8d7b-44ad-816a-a5da4386ba5f"
      },
      "execution_count": null,
      "outputs": [
        {
          "output_type": "stream",
          "name": "stdout",
          "text": [
            "количество для тренировки: 506\n",
            "количество для проверки: 218\n"
          ]
        }
      ]
    },
    {
      "cell_type": "markdown",
      "source": [
        "В качестве базового метода используется метод решающих деревьев. Обязательно дайте описание гиперпараметров построенной модели. Позволило ли существенно улучшить качество прогноза заболевания такое усовершенствование алгоритма?"
      ],
      "metadata": {
        "id": "CVtgu_Olgx1k"
      }
    },
    {
      "cell_type": "code",
      "source": [
        "from sklearn.ensemble import RandomForestClassifier\n",
        "from sklearn.metrics import roc_auc_score\n",
        "from sklearn.metrics import classification_report\n",
        "\n",
        "\n",
        "model =  RandomForestClassifier()\n",
        "# n_estimators - количество деревьев в лесу = 100\n",
        "# max_features - Число признаков для выбора расщепления = 'sqrt'\n",
        "# min_samples_split - Минимальное число объектов, при котором выполняется расщепление = 2\n",
        "# min_samples_leaf - Ограничение на число объектов в листьях = 1\n",
        "# max_depth - Максимальная глубина деревьев = None\n",
        "# criterion - Критерий расщепления = 'gini'\n",
        "\n",
        "model.fit(df2x_train, df2y_train)\n",
        "df2y_pred = model.predict(df2x_test)\n",
        "\n",
        "print (\"AUC-ROC (test) = \", roc_auc_score(df2y_test, df2y_pred))\n",
        "print(classification_report(df2y_test, df2y_pred))"
      ],
      "metadata": {
        "colab": {
          "base_uri": "https://localhost:8080/"
        },
        "id": "DbQWJwkVuY2p",
        "outputId": "6333ca0f-8f53-44e9-82ee-eb883308d691"
      },
      "execution_count": null,
      "outputs": [
        {
          "output_type": "stream",
          "name": "stdout",
          "text": [
            "AUC-ROC (test) =  0.6395752895752896\n",
            "              precision    recall  f1-score   support\n",
            "\n",
            "           0       0.76      0.86      0.81       148\n",
            "           1       0.59      0.41      0.49        70\n",
            "\n",
            "    accuracy                           0.72       218\n",
            "   macro avg       0.67      0.64      0.65       218\n",
            "weighted avg       0.70      0.72      0.70       218\n",
            "\n"
          ]
        }
      ]
    },
    {
      "cell_type": "markdown",
      "source": [
        "С параметрами по умолчанию случайный лес хуже оптимального решающего дерева по recall."
      ],
      "metadata": {
        "id": "UZaPFINpvcMS"
      }
    },
    {
      "cell_type": "markdown",
      "source": [
        "Определите оптимальное количество базовых алгоритмов в ансамбле (постройте график зависимости точности определения класса от количества деревьев)."
      ],
      "metadata": {
        "id": "4202yo2Khq5s"
      }
    },
    {
      "cell_type": "code",
      "source": [
        "import matplotlib.pyplot as plt\n",
        "\n",
        "\n",
        "n_est = list(range(1, 101))\n",
        "ras = []\n",
        "for n in n_est:\n",
        "    model =  RandomForestClassifier(n_estimators = n)\n",
        "\n",
        "    model.fit(df2x_train, df2y_train)\n",
        "    df2y_pred = model.predict(df2x_test)\n",
        "    ras.append(roc_auc_score(df2y_test, df2y_pred))\n",
        "\n",
        "plt.plot(n_est, ras)"
      ],
      "metadata": {
        "colab": {
          "base_uri": "https://localhost:8080/",
          "height": 448
        },
        "id": "I61REGiFwfFh",
        "outputId": "8a8bcc46-20bc-4fe1-9988-009deae44eb4"
      },
      "execution_count": null,
      "outputs": [
        {
          "output_type": "execute_result",
          "data": {
            "text/plain": [
              "[<matplotlib.lines.Line2D at 0x7931a5113e80>]"
            ]
          },
          "metadata": {},
          "execution_count": 32
        },
        {
          "output_type": "display_data",
          "data": {
            "text/plain": [
              "<Figure size 640x480 with 1 Axes>"
            ],
            "image/png": "[encoded data removed]"
          },
          "metadata": {}
        }
      ]
    },
    {
      "cell_type": "code",
      "source": [
        "import numpy as np\n",
        "\n",
        "\n",
        "print(\"лучшее количество деревьев:\", np.argmax(ras)+1)"
      ],
      "metadata": {
        "colab": {
          "base_uri": "https://localhost:8080/"
        },
        "id": "L12_k8I6x5ql",
        "outputId": "f59add34-772e-4439-d515-c54a42cbe654"
      },
      "execution_count": null,
      "outputs": [
        {
          "output_type": "stream",
          "name": "stdout",
          "text": [
            "лучшее количество деревьев: 10\n"
          ]
        }
      ]
    },
    {
      "cell_type": "markdown",
      "source": [
        "Определите оптимальную глубину деревьев, постройте график."
      ],
      "metadata": {
        "id": "EmE4ecoxhtGn"
      }
    },
    {
      "cell_type": "code",
      "source": [
        "max_depth = list(range(1, 101))\n",
        "ras = []\n",
        "for md in max_depth:\n",
        "    model =  RandomForestClassifier(51,\n",
        "                                    max_depth = md)\n",
        "\n",
        "    model.fit(df2x_train, df2y_train)\n",
        "    df2y_pred = model.predict(df2x_test)\n",
        "    ras.append(roc_auc_score(df2y_test, df2y_pred))\n",
        "\n",
        "plt.plot(n_est, ras)"
      ],
      "metadata": {
        "colab": {
          "base_uri": "https://localhost:8080/",
          "height": 448
        },
        "id": "5UjgpqUlycXv",
        "outputId": "72b50303-ea80-4377-87a4-de616917ea95"
      },
      "execution_count": null,
      "outputs": [
        {
          "output_type": "execute_result",
          "data": {
            "text/plain": [
              "[<matplotlib.lines.Line2D at 0x7931a00275b0>]"
            ]
          },
          "metadata": {},
          "execution_count": 34
        },
        {
          "output_type": "display_data",
          "data": {
            "text/plain": [
              "<Figure size 640x480 with 1 Axes>"
            ],
            "image/png": "[encoded data removed]"
          },
          "metadata": {}
        }
      ]
    },
    {
      "cell_type": "code",
      "source": [
        "print(\"лучшая максимальная глубина деревьев:\", np.argmax(ras)+1)"
      ],
      "metadata": {
        "colab": {
          "base_uri": "https://localhost:8080/"
        },
        "id": "lXMgIRUdyxZc",
        "outputId": "c510a2c5-078c-42d7-b95e-9e0b5f1c3c40"
      },
      "execution_count": null,
      "outputs": [
        {
          "output_type": "stream",
          "name": "stdout",
          "text": [
            "лучшая максимальная глубина деревьев: 54\n"
          ]
        }
      ]
    },
    {
      "cell_type": "code",
      "source": [
        "model =  RandomForestClassifier(n_estimators = 20, max_depth = 10)\n",
        "\n",
        "model.fit(df2x_train, df2y_train)\n",
        "df2y_pred = model.predict(df2x_test)\n",
        "\n",
        "print (\"AUC-ROC (test) = \", roc_auc_score(df2y_test, df2y_pred))\n",
        "print(classification_report(df2y_test, df2y_pred))"
      ],
      "metadata": {
        "colab": {
          "base_uri": "https://localhost:8080/"
        },
        "id": "4u-49OMzzEoY",
        "outputId": "168353fc-1bd9-40e1-a36c-8d5844843ec7"
      },
      "execution_count": null,
      "outputs": [
        {
          "output_type": "stream",
          "name": "stdout",
          "text": [
            "AUC-ROC (test) =  0.682046332046332\n",
            "              precision    recall  f1-score   support\n",
            "\n",
            "           0       0.78      0.88      0.83       148\n",
            "           1       0.65      0.49      0.56        70\n",
            "\n",
            "    accuracy                           0.75       218\n",
            "   macro avg       0.72      0.68      0.69       218\n",
            "weighted avg       0.74      0.75      0.74       218\n",
            "\n"
          ]
        }
      ]
    },
    {
      "cell_type": "markdown",
      "source": [
        "с оптимальными параметрами recall все еще ниже чем у решающего дерева."
      ],
      "metadata": {
        "id": "gZ2Qw48XzSjn"
      }
    },
    {
      "cell_type": "markdown",
      "source": [
        "Попробуйте уровнять количество наблюдений по классам (RandomUnderSampler, RandomOverSampler, см. прилагаемый материал)."
      ],
      "metadata": {
        "id": "TL8unYU1hvpc"
      }
    },
    {
      "cell_type": "code",
      "source": [
        "from imblearn.under_sampling import RandomUnderSampler\n",
        "\n",
        "\n",
        "df3x, df3y = RandomUnderSampler().fit_resample(df1_x, df1_y)\n",
        "df3x_train, df3x_test, df3y_train, df3y_test = train_test_split(df3x, df3y,\n",
        "                                                                test_size=0.3)\n",
        "print(\"количество для тренировки:\", len(df3x_train))\n",
        "print(\"количество для проверки:\", len(df3y_test))\n",
        "\n",
        "model.fit(df3x_train, df3y_train)\n",
        "\n",
        "df3y_pred = model.predict(df3x_test)\n",
        "print(classification_report(df3y_test, df3y_pred)) # отчет на урезанных данных.\n",
        "\n",
        "df1y_pred = model.predict(df1_x)\n",
        "print(classification_report(df1_y, df1y_pred)) # отчет на исходных данных."
      ],
      "metadata": {
        "colab": {
          "base_uri": "https://localhost:8080/"
        },
        "id": "L7jltsXWz0X5",
        "outputId": "324de35c-63e6-413c-bd24-867e84d03b77"
      },
      "execution_count": null,
      "outputs": [
        {
          "output_type": "stream",
          "name": "stdout",
          "text": [
            "количество для тренировки: 348\n",
            "количество для проверки: 150\n",
            "              precision    recall  f1-score   support\n",
            "\n",
            "           0       0.79      0.76      0.77        78\n",
            "           1       0.75      0.78      0.76        72\n",
            "\n",
            "    accuracy                           0.77       150\n",
            "   macro avg       0.77      0.77      0.77       150\n",
            "weighted avg       0.77      0.77      0.77       150\n",
            "\n",
            "              precision    recall  f1-score   support\n",
            "\n",
            "           0       0.96      0.84      0.90       475\n",
            "           1       0.76      0.94      0.84       249\n",
            "\n",
            "    accuracy                           0.88       724\n",
            "   macro avg       0.86      0.89      0.87       724\n",
            "weighted avg       0.89      0.88      0.88       724\n",
            "\n"
          ]
        }
      ]
    },
    {
      "cell_type": "markdown",
      "source": [
        "при балансе классов вниз тест дает 78 ~ 93 % полноты обнаружения болезни, что лучше решающего дерева."
      ],
      "metadata": {
        "id": "ZPZQBeiA09M6"
      }
    },
    {
      "cell_type": "code",
      "source": [
        "from imblearn.over_sampling import RandomOverSampler\n",
        "\n",
        "\n",
        "df4x, df4y = RandomOverSampler().fit_resample(df1_x, df1_y)\n",
        "df4x_train, df4x_test, df4y_train, df4y_test = train_test_split(df4x, df4y,\n",
        "                                                                test_size=0.3)\n",
        "print(\"количество для тренировки:\", len(df4x_train))\n",
        "print(\"количество для проверки:\", len(df4y_test))\n",
        "\n",
        "model.fit(df4x_train, df4y_train)\n",
        "\n",
        "df4y_pred = model.predict(df4x_test)\n",
        "print(classification_report(df4y_test, df4y_pred)) # отчет на увеличенных данных.\n",
        "\n",
        "df1y_pred = model.predict(df1_x)\n",
        "print(classification_report(df1_y, df1y_pred)) # отчет на исходных данных."
      ],
      "metadata": {
        "colab": {
          "base_uri": "https://localhost:8080/"
        },
        "id": "6XkY3Dii1Ljw",
        "outputId": "ef3b907d-6e4f-4a84-dddc-f7f046c8f312"
      },
      "execution_count": null,
      "outputs": [
        {
          "output_type": "stream",
          "name": "stdout",
          "text": [
            "количество для тренировки: 665\n",
            "количество для проверки: 285\n",
            "              precision    recall  f1-score   support\n",
            "\n",
            "           0       0.88      0.82      0.85       146\n",
            "           1       0.83      0.88      0.85       139\n",
            "\n",
            "    accuracy                           0.85       285\n",
            "   macro avg       0.85      0.85      0.85       285\n",
            "weighted avg       0.85      0.85      0.85       285\n",
            "\n",
            "              precision    recall  f1-score   support\n",
            "\n",
            "           0       0.97      0.95      0.96       475\n",
            "           1       0.90      0.94      0.92       249\n",
            "\n",
            "    accuracy                           0.94       724\n",
            "   macro avg       0.93      0.94      0.94       724\n",
            "weighted avg       0.94      0.94      0.94       724\n",
            "\n"
          ]
        }
      ]
    },
    {
      "cell_type": "markdown",
      "source": [
        "при балансе классов вверх тест дает 85 ~ 92 % полноты обнаружения болезни, что лучше решающего дерева."
      ],
      "metadata": {
        "id": "AlhXDhmX1um2"
      }
    }
  ]
}